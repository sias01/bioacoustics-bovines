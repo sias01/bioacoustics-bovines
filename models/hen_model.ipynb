{
  "nbformat": 4,
  "nbformat_minor": 0,
  "metadata": {
    "colab": {
      "provenance": [],
      "gpuType": "T4"
    },
    "kernelspec": {
      "name": "python3",
      "display_name": "Python 3"
    },
    "language_info": {
      "name": "python"
    },
    "accelerator": "GPU"
  },
  "cells": [
    {
      "cell_type": "code",
      "execution_count": null,
      "metadata": {
        "id": "7xu045e5jbc2"
      },
      "outputs": [],
      "source": [
        "import numpy as np\n",
        "import matplotlib.pyplot as plt\n",
        "%matplotlib inline\n",
        "from tensorflow.keras.preprocessing.image import ImageDataGenerator\n",
        "import tensorflow as tf\n",
        "from sklearn.metrics import confusion_matrix\n",
        "import seaborn as sns\n",
        "from keras.preprocessing import image\n",
        "from tensorflow.keras.models import load_model"
      ]
    },
    {
      "cell_type": "code",
      "source": [
        "from keras import datasets,layers,models\n"
      ],
      "metadata": {
        "id": "p8dw7Bm-_HJ8"
      },
      "execution_count": null,
      "outputs": []
    },
    {
      "cell_type": "code",
      "source": [
        "from google.colab import drive\n",
        "drive.mount('/content/drive')\n"
      ],
      "metadata": {
        "colab": {
          "base_uri": "https://localhost:8080/"
        },
        "id": "JyE665_A_Y4y",
        "outputId": "bb4ccb97-0fe1-4f5d-e03f-dfce170d31b0"
      },
      "execution_count": null,
      "outputs": [
        {
          "output_type": "stream",
          "name": "stdout",
          "text": [
            "Mounted at /content/drive\n"
          ]
        }
      ]
    },
    {
      "cell_type": "code",
      "source": [
        "chicken_healthy_log_melspecs=np.load('/content/drive/MyDrive/chicken_healthy_log_melspecs.txt.npy')\n",
        "chicken_unhealthy_log_melspecs=np.load('/content/drive/MyDrive/chicken_unhealthy_log_melspecs.txt.npy')\n",
        "chicken_distress_log_melspecs=np.load('/content/drive/MyDrive/chicken_distress_log_melspecs.txt.npy')"
      ],
      "metadata": {
        "id": "sigzY43M_YpQ"
      },
      "execution_count": null,
      "outputs": []
    },
    {
      "cell_type": "code",
      "source": [
        "chicken_healthy_log_melspecs.shape[0]\n",
        "labels = [0]*chicken_healthy_log_melspecs.shape[0]\n",
        "chicken_healthy_dataset_labeled = list(zip(chicken_healthy_log_melspecs , labels))\n",
        "chicken_healthy_dataset_labeled = np.array(chicken_healthy_dataset_labeled)\n"
      ],
      "metadata": {
        "colab": {
          "base_uri": "https://localhost:8080/"
        },
        "id": "AFsUy7eYBybE",
        "outputId": "ea307d56-5f65-4ad1-dc45-6f6534c6771d"
      },
      "execution_count": null,
      "outputs": [
        {
          "output_type": "stream",
          "name": "stderr",
          "text": [
            "<ipython-input-5-b28cf060735a>:4: VisibleDeprecationWarning: Creating an ndarray from ragged nested sequences (which is a list-or-tuple of lists-or-tuples-or ndarrays with different lengths or shapes) is deprecated. If you meant to do this, you must specify 'dtype=object' when creating the ndarray.\n",
            "  chicken_healthy_dataset_labeled = np.array(chicken_healthy_dataset_labeled)\n"
          ]
        }
      ]
    },
    {
      "cell_type": "code",
      "source": [
        "chicken_unhealthy_log_melspecs.shape[0]\n",
        "labels1 = [1]*chicken_unhealthy_log_melspecs.shape[0]\n",
        "chicken_unhealthy_dataset_labeled = list(zip(chicken_unhealthy_log_melspecs , labels1))\n",
        "chicken_unhealthy_dataset_labeled = np.array(chicken_unhealthy_dataset_labeled)"
      ],
      "metadata": {
        "colab": {
          "base_uri": "https://localhost:8080/"
        },
        "id": "vjWNXlC_F326",
        "outputId": "fb100d02-3b34-4834-9885-34c39795d6c9"
      },
      "execution_count": null,
      "outputs": [
        {
          "output_type": "stream",
          "name": "stderr",
          "text": [
            "<ipython-input-6-8382ea65d156>:4: VisibleDeprecationWarning: Creating an ndarray from ragged nested sequences (which is a list-or-tuple of lists-or-tuples-or ndarrays with different lengths or shapes) is deprecated. If you meant to do this, you must specify 'dtype=object' when creating the ndarray.\n",
            "  chicken_unhealthy_dataset_labeled = np.array(chicken_unhealthy_dataset_labeled)\n"
          ]
        }
      ]
    },
    {
      "cell_type": "code",
      "source": [
        "chicken_distress_log_melspecs.shape[0]\n",
        "labels1 = [2]*chicken_distress_log_melspecs.shape[0]\n",
        "chicken_distress_dataset_labeled = list(zip(chicken_distress_log_melspecs , labels1))\n",
        "chicken_distress_dataset_labeled= np.array(chicken_distress_dataset_labeled)"
      ],
      "metadata": {
        "id": "Yhg58TYCRl8w",
        "colab": {
          "base_uri": "https://localhost:8080/"
        },
        "outputId": "81b7b941-f596-442b-e968-e234af614c6a"
      },
      "execution_count": null,
      "outputs": [
        {
          "output_type": "stream",
          "name": "stderr",
          "text": [
            "<ipython-input-7-d60031e99331>:4: VisibleDeprecationWarning: Creating an ndarray from ragged nested sequences (which is a list-or-tuple of lists-or-tuples-or ndarrays with different lengths or shapes) is deprecated. If you meant to do this, you must specify 'dtype=object' when creating the ndarray.\n",
            "  chicken_distress_dataset_labeled= np.array(chicken_distress_dataset_labeled)\n"
          ]
        }
      ]
    },
    {
      "cell_type": "code",
      "source": [
        "chicken_healthy_dataset_labeled.shape"
      ],
      "metadata": {
        "colab": {
          "base_uri": "https://localhost:8080/"
        },
        "id": "SKxSejmEJkR_",
        "outputId": "d7390c39-ee3f-4557-f222-55b648607466"
      },
      "execution_count": null,
      "outputs": [
        {
          "output_type": "execute_result",
          "data": {
            "text/plain": [
              "(274, 2)"
            ]
          },
          "metadata": {},
          "execution_count": 8
        }
      ]
    },
    {
      "cell_type": "code",
      "source": [
        "chicken_unhealthy_dataset_labeled.shape"
      ],
      "metadata": {
        "colab": {
          "base_uri": "https://localhost:8080/"
        },
        "id": "DQ44Qk49Jlqg",
        "outputId": "763fd409-3f3d-4349-be4d-146eb6c57a3a"
      },
      "execution_count": null,
      "outputs": [
        {
          "output_type": "execute_result",
          "data": {
            "text/plain": [
              "(242, 2)"
            ]
          },
          "metadata": {},
          "execution_count": 9
        }
      ]
    },
    {
      "cell_type": "code",
      "source": [
        "chicken_distress_dataset_labeled.shape"
      ],
      "metadata": {
        "colab": {
          "base_uri": "https://localhost:8080/"
        },
        "id": "TLe7hB2a_D4G",
        "outputId": "485b3fd7-635d-41f2-95dc-99549048d674"
      },
      "execution_count": null,
      "outputs": [
        {
          "output_type": "execute_result",
          "data": {
            "text/plain": [
              "(216, 2)"
            ]
          },
          "metadata": {},
          "execution_count": 10
        }
      ]
    },
    {
      "cell_type": "code",
      "source": [
        "dataset=np.concatenate((chicken_healthy_dataset_labeled,chicken_unhealthy_dataset_labeled,chicken_distress_dataset_labeled),axis=0)\n",
        "dataset.shape"
      ],
      "metadata": {
        "colab": {
          "base_uri": "https://localhost:8080/"
        },
        "id": "P7jZ23OkJwpW",
        "outputId": "ecd59d5c-11f1-4834-c58a-8b3dfba2f2f1"
      },
      "execution_count": null,
      "outputs": [
        {
          "output_type": "execute_result",
          "data": {
            "text/plain": [
              "(732, 2)"
            ]
          },
          "metadata": {},
          "execution_count": 11
        }
      ]
    },
    {
      "cell_type": "code",
      "source": [
        "np.random.shuffle(dataset)"
      ],
      "metadata": {
        "id": "TkHRQx5JK6k1"
      },
      "execution_count": null,
      "outputs": []
    },
    {
      "cell_type": "code",
      "source": [
        "y=[]\n",
        "X=[]\n",
        "for pt in dataset:\n",
        "  y.append(pt[1])\n",
        "  X.append(pt[0])"
      ],
      "metadata": {
        "id": "0VgWFVr4K8Gq"
      },
      "execution_count": null,
      "outputs": []
    },
    {
      "cell_type": "code",
      "source": [
        "X=np.array(X)\n",
        "y=np.array(y)"
      ],
      "metadata": {
        "id": "2QPDl7GiLiZy"
      },
      "execution_count": null,
      "outputs": []
    },
    {
      "cell_type": "code",
      "source": [
        "X=np.repeat(X[...,np.newaxis],3,axis=-1)"
      ],
      "metadata": {
        "id": "1ahfGUyMPHt2"
      },
      "execution_count": null,
      "outputs": []
    },
    {
      "cell_type": "code",
      "source": [
        "X.shape"
      ],
      "metadata": {
        "colab": {
          "base_uri": "https://localhost:8080/"
        },
        "id": "-9rcSsYILrjy",
        "outputId": "ed620bc0-856b-491e-8457-ce9fd40ec245"
      },
      "execution_count": null,
      "outputs": [
        {
          "output_type": "execute_result",
          "data": {
            "text/plain": [
              "(732, 224, 224, 3)"
            ]
          },
          "metadata": {},
          "execution_count": 16
        }
      ]
    },
    {
      "cell_type": "code",
      "source": [
        "y.shape"
      ],
      "metadata": {
        "colab": {
          "base_uri": "https://localhost:8080/"
        },
        "id": "ZhilrBIHLsdd",
        "outputId": "772429dc-6d64-440d-b714-13e74b01a11d"
      },
      "execution_count": null,
      "outputs": [
        {
          "output_type": "execute_result",
          "data": {
            "text/plain": [
              "(732,)"
            ]
          },
          "metadata": {},
          "execution_count": 17
        }
      ]
    },
    {
      "cell_type": "code",
      "source": [
        "min(y)"
      ],
      "metadata": {
        "colab": {
          "base_uri": "https://localhost:8080/"
        },
        "id": "yxofsd4kQ2K9",
        "outputId": "caf29b9c-9fbc-49be-a9e5-4bd0d2299163"
      },
      "execution_count": null,
      "outputs": [
        {
          "output_type": "execute_result",
          "data": {
            "text/plain": [
              "0"
            ]
          },
          "metadata": {},
          "execution_count": 18
        }
      ]
    },
    {
      "cell_type": "code",
      "source": [
        "max(y)"
      ],
      "metadata": {
        "colab": {
          "base_uri": "https://localhost:8080/"
        },
        "id": "3S-AL7H9Q9U6",
        "outputId": "53f1d85e-cee8-4a91-92f1-ab11d5a367f6"
      },
      "execution_count": null,
      "outputs": [
        {
          "output_type": "execute_result",
          "data": {
            "text/plain": [
              "2"
            ]
          },
          "metadata": {},
          "execution_count": 19
        }
      ]
    },
    {
      "cell_type": "code",
      "source": [
        "from sklearn.model_selection import train_test_split\n",
        "X_train,X_test,y_train,Y_test=train_test_split(X,y,test_size=0.2)"
      ],
      "metadata": {
        "id": "0JwgB9RxLuvk"
      },
      "execution_count": null,
      "outputs": []
    },
    {
      "cell_type": "code",
      "source": [
        "X_train.shape"
      ],
      "metadata": {
        "colab": {
          "base_uri": "https://localhost:8080/"
        },
        "id": "m1V9UMS5MH94",
        "outputId": "d67e8513-34a8-4e69-f855-4c85801def88"
      },
      "execution_count": null,
      "outputs": [
        {
          "output_type": "execute_result",
          "data": {
            "text/plain": [
              "(585, 224, 224, 3)"
            ]
          },
          "metadata": {},
          "execution_count": 21
        }
      ]
    },
    {
      "cell_type": "code",
      "source": [
        "X_test.shape"
      ],
      "metadata": {
        "colab": {
          "base_uri": "https://localhost:8080/"
        },
        "id": "OpuxWAc1LlXZ",
        "outputId": "d2b8c5b1-b611-4ed1-a2d1-2be0eb65ffe6"
      },
      "execution_count": null,
      "outputs": [
        {
          "output_type": "execute_result",
          "data": {
            "text/plain": [
              "(147, 224, 224, 3)"
            ]
          },
          "metadata": {},
          "execution_count": 22
        }
      ]
    },
    {
      "cell_type": "code",
      "source": [
        "y_train.shape"
      ],
      "metadata": {
        "colab": {
          "base_uri": "https://localhost:8080/"
        },
        "id": "9YrckGp_Mcd7",
        "outputId": "ada058e3-a347-446c-e987-4b4b5e0328ab"
      },
      "execution_count": null,
      "outputs": [
        {
          "output_type": "execute_result",
          "data": {
            "text/plain": [
              "(585,)"
            ]
          },
          "metadata": {},
          "execution_count": 23
        }
      ]
    },
    {
      "cell_type": "code",
      "source": [
        "from tensorflow.keras.applications.vgg16 import VGG16\n",
        "vgg_model = VGG16(weights='imagenet', include_top=False, input_shape=(224, 224, 3))\n",
        "for layer in vgg_model.layers:\n",
        "    layer.trainable = False\n"
      ],
      "metadata": {
        "id": "G7ZMwJaETryV",
        "colab": {
          "base_uri": "https://localhost:8080/"
        },
        "outputId": "42fdb98d-a1b8-4cbe-b89c-ea38b6a2cdd0"
      },
      "execution_count": null,
      "outputs": [
        {
          "output_type": "stream",
          "name": "stdout",
          "text": [
            "Downloading data from https://storage.googleapis.com/tensorflow/keras-applications/vgg16/vgg16_weights_tf_dim_ordering_tf_kernels_notop.h5\n",
            "58889256/58889256 [==============================] - 0s 0us/step\n"
          ]
        }
      ]
    },
    {
      "cell_type": "code",
      "source": [
        "model = tf.keras.models.Sequential([\n",
        "    vgg_model,\n",
        "    tf.keras.layers.Flatten(),\n",
        "    tf.keras.layers.Dense(256, activation='relu'),\n",
        "    tf.keras.layers.Dense(3, activation='softmax')\n",
        "])\n"
      ],
      "metadata": {
        "id": "33Zha5Ci_MfA"
      },
      "execution_count": null,
      "outputs": []
    },
    {
      "cell_type": "code",
      "source": [
        "model.compile(loss='sparse_categorical_crossentropy', optimizer=tf.keras.optimizers.Adam(learning_rate=0.001), metrics=['accuracy'])"
      ],
      "metadata": {
        "id": "OhlqlMCeMybm"
      },
      "execution_count": null,
      "outputs": []
    },
    {
      "cell_type": "code",
      "source": [
        "model.fit(X_train,y_train, batch_size=32,epochs=10)"
      ],
      "metadata": {
        "colab": {
          "base_uri": "https://localhost:8080/"
        },
        "id": "E9zAlJc0N5Rp",
        "outputId": "e54b84de-36a1-4877-d356-4068ea0acb6d"
      },
      "execution_count": null,
      "outputs": [
        {
          "output_type": "stream",
          "name": "stdout",
          "text": [
            "Epoch 1/10\n",
            "19/19 [==============================] - 18s 206ms/step - loss: 4.2307 - accuracy: 0.8547\n",
            "Epoch 2/10\n",
            "19/19 [==============================] - 2s 119ms/step - loss: 0.0735 - accuracy: 0.9915\n",
            "Epoch 3/10\n",
            "19/19 [==============================] - 2s 120ms/step - loss: 0.0453 - accuracy: 0.9949\n",
            "Epoch 4/10\n",
            "19/19 [==============================] - 2s 124ms/step - loss: 1.2574e-05 - accuracy: 1.0000\n",
            "Epoch 5/10\n",
            "19/19 [==============================] - 2s 120ms/step - loss: 2.1525e-05 - accuracy: 1.0000\n",
            "Epoch 6/10\n",
            "19/19 [==============================] - 2s 119ms/step - loss: 1.7611e-05 - accuracy: 1.0000\n",
            "Epoch 7/10\n",
            "19/19 [==============================] - 2s 119ms/step - loss: 1.1415e-05 - accuracy: 1.0000\n",
            "Epoch 8/10\n",
            "19/19 [==============================] - 2s 120ms/step - loss: 7.8955e-06 - accuracy: 1.0000\n",
            "Epoch 9/10\n",
            "19/19 [==============================] - 2s 123ms/step - loss: 6.5157e-06 - accuracy: 1.0000\n",
            "Epoch 10/10\n",
            "19/19 [==============================] - 2s 125ms/step - loss: 4.9455e-06 - accuracy: 1.0000\n"
          ]
        },
        {
          "output_type": "execute_result",
          "data": {
            "text/plain": [
              "<keras.callbacks.History at 0x7e4106551750>"
            ]
          },
          "metadata": {},
          "execution_count": 27
        }
      ]
    },
    {
      "cell_type": "code",
      "source": [
        "model.evaluate(X_test,Y_test)"
      ],
      "metadata": {
        "colab": {
          "base_uri": "https://localhost:8080/"
        },
        "id": "9yAET482ORGN",
        "outputId": "b529f2ad-142d-4e83-84fb-1b5cd491b225"
      },
      "execution_count": null,
      "outputs": [
        {
          "output_type": "stream",
          "name": "stdout",
          "text": [
            "5/5 [==============================] - 4s 889ms/step - loss: 0.0400 - accuracy: 0.9864\n"
          ]
        },
        {
          "output_type": "execute_result",
          "data": {
            "text/plain": [
              "[0.039965659379959106, 0.9863945841789246]"
            ]
          },
          "metadata": {},
          "execution_count": 28
        }
      ]
    },
    {
      "cell_type": "code",
      "source": [
        "y_pred=model.predict(X_test)"
      ],
      "metadata": {
        "id": "75pyXlttYUwK",
        "colab": {
          "base_uri": "https://localhost:8080/"
        },
        "outputId": "0109a496-5965-4bd4-8598-44a35f547566"
      },
      "execution_count": null,
      "outputs": [
        {
          "output_type": "stream",
          "name": "stdout",
          "text": [
            "5/5 [==============================] - 1s 120ms/step\n"
          ]
        }
      ]
    },
    {
      "cell_type": "code",
      "source": [
        "#model.save(\"/content/drive/MyDrive/MS_CNN_Model/chicken_model.h5\")"
      ],
      "metadata": {
        "id": "u5yZmjJRY2J-"
      },
      "execution_count": null,
      "outputs": []
    },
    {
      "cell_type": "code",
      "source": [
        "from sklearn.metrics import classification_report"
      ],
      "metadata": {
        "id": "-KvyqvtrYgHR"
      },
      "execution_count": null,
      "outputs": []
    },
    {
      "cell_type": "code",
      "source": [
        "print(Y_test.dtype)\n",
        "print(y_pred.dtype)"
      ],
      "metadata": {
        "colab": {
          "base_uri": "https://localhost:8080/"
        },
        "id": "QGktf3RnjsO3",
        "outputId": "caeb736d-5e09-4f27-da10-cd8da4a026a8"
      },
      "execution_count": null,
      "outputs": [
        {
          "output_type": "stream",
          "name": "stdout",
          "text": [
            "int64\n",
            "float32\n"
          ]
        }
      ]
    },
    {
      "cell_type": "code",
      "source": [
        "y_pred_classes = np.argmax(y_pred, axis=1)\n",
        "report = classification_report(Y_test,y_pred_classes)\n",
        "print(report)"
      ],
      "metadata": {
        "id": "wbHDQjxuZX6v",
        "colab": {
          "base_uri": "https://localhost:8080/"
        },
        "outputId": "8ae2e1b4-9977-4019-d11f-0e4f0ff86171"
      },
      "execution_count": null,
      "outputs": [
        {
          "output_type": "stream",
          "name": "stdout",
          "text": [
            "              precision    recall  f1-score   support\n",
            "\n",
            "           0       0.97      1.00      0.98        59\n",
            "           1       1.00      0.96      0.98        49\n",
            "           2       1.00      1.00      1.00        39\n",
            "\n",
            "    accuracy                           0.99       147\n",
            "   macro avg       0.99      0.99      0.99       147\n",
            "weighted avg       0.99      0.99      0.99       147\n",
            "\n"
          ]
        }
      ]
    },
    {
      "cell_type": "code",
      "source": [],
      "metadata": {
        "id": "I4UWkfA8YHH0"
      },
      "execution_count": null,
      "outputs": []
    },
    {
      "cell_type": "code",
      "source": [],
      "metadata": {
        "id": "wAfnLasFZZb_"
      },
      "execution_count": null,
      "outputs": []
    },
    {
      "cell_type": "code",
      "source": [],
      "metadata": {
        "id": "aADaC0-3aHO2"
      },
      "execution_count": null,
      "outputs": []
    }
  ]
}